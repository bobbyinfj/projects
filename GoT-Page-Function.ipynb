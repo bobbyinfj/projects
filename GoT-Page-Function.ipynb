{
 "cells": [
  {
   "cell_type": "code",
   "execution_count": 19,
   "metadata": {},
   "outputs": [],
   "source": [
    "import pandas as pd\n",
    "\n",
    "df = pd.read_csv(\"Desktop/Game of Thrones Characters Personality Types - All Characters.csv\")"
   ]
  },
  {
   "cell_type": "code",
   "execution_count": 20,
   "metadata": {},
   "outputs": [
    {
     "data": {
      "text/html": [
       "<div>\n",
       "<style scoped>\n",
       "    .dataframe tbody tr th:only-of-type {\n",
       "        vertical-align: middle;\n",
       "    }\n",
       "\n",
       "    .dataframe tbody tr th {\n",
       "        vertical-align: top;\n",
       "    }\n",
       "\n",
       "    .dataframe thead th {\n",
       "        text-align: right;\n",
       "    }\n",
       "</style>\n",
       "<table border=\"1\" class=\"dataframe\">\n",
       "  <thead>\n",
       "    <tr style=\"text-align: right;\">\n",
       "      <th></th>\n",
       "      <th>Character</th>\n",
       "      <th>MBTI</th>\n",
       "      <th>Description</th>\n",
       "    </tr>\n",
       "  </thead>\n",
       "  <tbody>\n",
       "    <tr>\n",
       "      <th>2</th>\n",
       "      <td>Mance</td>\n",
       "      <td>ENFJ</td>\n",
       "      <td>NaN</td>\n",
       "    </tr>\n",
       "    <tr>\n",
       "      <th>35</th>\n",
       "      <td>Daario Naharis</td>\n",
       "      <td>ESTP</td>\n",
       "      <td>You’re a lover. You’re a fighter. You’re a cha...</td>\n",
       "    </tr>\n",
       "    <tr>\n",
       "      <th>36</th>\n",
       "      <td>Jaime Lannister</td>\n",
       "      <td>ESTP</td>\n",
       "      <td>Brash, cocky, and with a mouth that can get yo...</td>\n",
       "    </tr>\n",
       "    <tr>\n",
       "      <th>37</th>\n",
       "      <td>Margaery Tyrell</td>\n",
       "      <td>ESTP</td>\n",
       "      <td>The quintessential politician, you know exactl...</td>\n",
       "    </tr>\n",
       "    <tr>\n",
       "      <th>38</th>\n",
       "      <td>Robb Stark</td>\n",
       "      <td>ESTP</td>\n",
       "      <td>Poor you. The stereotypical Artisan growing up...</td>\n",
       "    </tr>\n",
       "  </tbody>\n",
       "</table>\n",
       "</div>"
      ],
      "text/plain": [
       "          Character  MBTI                                        Description\n",
       "2             Mance  ENFJ                                                NaN\n",
       "35   Daario Naharis  ESTP  You’re a lover. You’re a fighter. You’re a cha...\n",
       "36  Jaime Lannister  ESTP  Brash, cocky, and with a mouth that can get yo...\n",
       "37  Margaery Tyrell  ESTP  The quintessential politician, you know exactl...\n",
       "38       Robb Stark  ESTP  Poor you. The stereotypical Artisan growing up..."
      ]
     },
     "execution_count": 20,
     "metadata": {},
     "output_type": "execute_result"
    }
   ],
   "source": [
    "df = df.loc[df['Test2'] == 2]\n",
    "df = df[['Character', 'MBTI', 'Description']]\n",
    "df"
   ]
  },
  {
   "cell_type": "code",
   "execution_count": 21,
   "metadata": {},
   "outputs": [],
   "source": []
  },
  {
   "cell_type": "code",
   "execution_count": 22,
   "metadata": {},
   "outputs": [
    {
     "ename": "SyntaxError",
     "evalue": "invalid syntax (<ipython-input-22-149f0aad0b39>, line 1)",
     "output_type": "error",
     "traceback": [
      "\u001b[0;36m  File \u001b[0;32m\"<ipython-input-22-149f0aad0b39>\"\u001b[0;36m, line \u001b[0;32m1\u001b[0m\n\u001b[0;31m    <div class=\"top-row\">\u001b[0m\n\u001b[0m    ^\u001b[0m\n\u001b[0;31mSyntaxError\u001b[0m\u001b[0;31m:\u001b[0m invalid syntax\n"
     ]
    }
   ],
   "source": [
    "<div class=\"top-row\">\n",
    "<h2>You are Jaime Lannister (Fox)!</h2>\n",
    "[mks_col]\n",
    "[mks_one_third]\n",
    "<img src=\"/wp-content/uploads/2017/08/nikolaj-main_0.jpg\" />\n",
    "[/mks_one_third]\n",
    "[mks_two_thirds]\n",
    "<p>Brash, cocky, and with a mouth that can get you in and out of trouble, you are the prototypical Fox charmer. One could imagine your life as a perpetual bed-hopper if you weren’t in love with your sister. Of course, like all rogues, your confidence comes with a comeuppance-leads-to-humility-leads-to-true strength arc as clockwork as a Tom Cruise movie—just thank your preternaturally lucky stars that, for most Foxes, this humbling comes without the loss of an actual hand.</p><div><a class=\"bob\" href=\"/which-game-of-thrones-character-are-you/\">No, that's not me. <span class=\"mobile-new-line\">(Take the test again)</span></a></div><div><a class=\"bbb\" href=\"/you-belong-to-the-fox-estp-tribe\">What's a Fox? <span class=\"mobile-new-line\">(Read about your Youtopia Tribe)</span></a></div>\n",
    "[/mks_two_thirds]\n",
    "[/mks_col]\n",
    "<div class=\"share-bar\"><div><h5>Share your result</h5></div><span><ul class=\"vce-share-items\"><li><a class=\"fa fa-facebook\" href=\"javascript:void(0);\" data-url=\"http://www.facebook.com/sharer/sharer.php?u=http://youtopiaproject.com/you-are-jaime-lannister-fox&amp;t=You are Jaime Lannister (Fox)!\"></a></li><li><a class=\"fa fa-twitter\" href=\"javascript:void(0);\" data-url=\"http://twitter.com/intent/tweet?url=http://youtopiaproject.com/you-are-jaime-lannister-fox&amp;text=You are Jaime Lannister (Fox)!\"></a></li><li><a class=\"fa fa-google-plus\" href=\"javascript:void(0);\" data-url=\"https://plus.google.com/share?url=http://youtopiaproject.com/you-are-jaime-lannister-fox\"></a></li><li><a class=\"fa fa-linkedin\" href=\"javascript:void(0);\" data-url=\"http://www.linkedin.com/shareArticle?mini=true&amp;url=http://youtopiaproject.com/you-are-jaime-lannister-fox&amp;title=You are Jaime Lannister (Fox)!\"></a></li></ul></span></div>\n",
    "</div>\n",
    "<link rel=\"stylesheet\" href=\"/test-results-got.css \" />"
   ]
  },
  {
   "cell_type": "code",
   "execution_count": 37,
   "metadata": {},
   "outputs": [],
   "source": [
    "with open(\"Desktop/GoTcopy.txt\", \"w\") as file:\n",
    "    file.write(\"\")\n",
    "    for index, row in df.iterrows():\n",
    "        file.write(row[\"Character\"])"
   ]
  },
  {
   "cell_type": "code",
   "execution_count": null,
   "metadata": {},
   "outputs": [],
   "source": []
  }
 ],
 "metadata": {
  "kernelspec": {
   "display_name": "Python 3",
   "language": "python",
   "name": "python3"
  },
  "language_info": {
   "codemirror_mode": {
    "name": "ipython",
    "version": 3
   },
   "file_extension": ".py",
   "mimetype": "text/x-python",
   "name": "python",
   "nbconvert_exporter": "python",
   "pygments_lexer": "ipython3",
   "version": "3.7.1"
  }
 },
 "nbformat": 4,
 "nbformat_minor": 2
}
